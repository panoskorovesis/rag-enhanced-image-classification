{
 "cells": [
  {
   "cell_type": "code",
   "execution_count": null,
   "metadata": {},
   "outputs": [],
   "source": [
    "import numpy as np\n",
    "from sklearn.metrics.pairwise import cosine_similarity, euclidean_distances\n",
    "from sklearn.metrics import classification_report"
   ]
  },
  {
   "cell_type": "markdown",
   "metadata": {},
   "source": [
    "# CLS"
   ]
  },
  {
   "cell_type": "markdown",
   "metadata": {},
   "source": [
    "# `compute_distance_sums` Function\n",
    "\n",
    "The `compute_distance_sums` function calculates the cumulative distance between a given test image embedding and a set of stored memory embeddings. The computed distances are aggregated based on class labels, providing a per-class similarity score.\n",
    "\n",
    "## Parameters\n",
    "\n",
    "- **selected_test_image_embedding** (`numpy array`): The embedding vector of the test image.\n",
    "- **memory_embeddings** (`list of numpy arrays`): A collection of embeddings stored in memory.\n",
    "- **memory_labels** (`list of int`): Class labels corresponding to `memory_embeddings`.\n",
    "- **predicted_softmax_label** (`numpy array`, optional): A probability distribution over classes, from the finetuned model.\n",
    "- **static_distance** (`float`, default=`1`): A scaling factor applied to `predicted_softmax_label`.\n",
    "- **distance_metric** (`str`, default=`'cosine'`): Specifies the distance metric to use. Options:\n",
    "  - `'cosine'`: Uses cosine similarity.\n",
    "  - `'euclidean'`: Uses a modified Euclidean distance (`1 / (1 + d)`).\n",
    "- **num_classes** (`int`, default=`10`): Total number of possible classes.\n",
    "\n",
    "## Returns\n",
    "\n",
    "- **distance_sums** (`numpy array`): An array of length `num_classes`, where each index represents the cumulative similarity score for that class.\n",
    "\n",
    "## Methodology\n",
    "\n",
    "### 1. One-Hot Encoding of Labels\n",
    "- A one-hot encoded matrix of shape `(len(memory_labels), num_classes)` is created to represent the class labels.\n",
    "- If any label is out of range, an error is raised.\n",
    "\n",
    "### 2. Distance Computation\n",
    "- Each memory embedding is compared to the `selected_test_image_embedding` using the specified `distance_metric`.\n",
    "  - **Cosine similarity** is used if `distance_metric='cosine'`.\n",
    "  - A **normalized Euclidean distance** (`1 / (1 + d)`) is used if `distance_metric='euclidean'`.\n",
    "- The computed distance is multiplied by the corresponding one-hot encoded label and added to `distance_sums`.\n",
    "\n",
    "### 3. Adjustment Using Softmax Prediction\n",
    "- If `predicted_softmax_label` is provided, it is scaled by `static_distance` and added to `distance_sums`."
   ]
  },
  {
   "cell_type": "code",
   "execution_count": null,
   "metadata": {},
   "outputs": [],
   "source": [
    "def compute_distance_sums(selected_test_image_embedding, memory_embeddings, memory_labels, predicted_softmax_label= None, static_distance = 1, distance_metric='cosine', num_classes=10):\n",
    "\n",
    "    distance_sums = np.zeros(num_classes)\n",
    "\n",
    "    # Initialize the one-hot vectors based on memory_labels\n",
    "    memory_labels_onehot = np.zeros((len(memory_labels), num_classes))\n",
    "\n",
    "    # Create the one-hot encoding for each memory label\n",
    "    for i, label in enumerate(memory_labels):\n",
    "        if label < num_classes:\n",
    "            memory_labels_onehot[i, label] = 1\n",
    "        else:\n",
    "            raise ValueError(f\"Label {label} is out of range. Expected between 0 and {num_classes - 1}.\")\n",
    "\n",
    "    # Loop over each memory embedding and compute distances\n",
    "    for i, memory_embedding in enumerate(memory_embeddings):\n",
    "        # One-hot encode the memory label\n",
    "        memory_label_onehot = memory_labels_onehot[i]\n",
    "        \n",
    "        # When two embeddings are identical the cosine = 1 and the Euclidean is 0\n",
    "        # when two embeddings are very different then cosine = -1 and euclidean = inf\n",
    "        # Compute the 1/(1+d) for Euclidean in order to be 1 for identical and 0 for very different,\n",
    "        # Compute the distance (Cosine or Euclidean based on the parameter)\n",
    "        if distance_metric == 'cosine':\n",
    "            dist = cosine_similarity([selected_test_image_embedding], [memory_embedding])[0][0]\n",
    "        elif distance_metric == 'euclidean':\n",
    "            dist = 1/(1+euclidean_distances([selected_test_image_embedding], [memory_embedding])[0][0]) # 1/(1+d)\n",
    "        else:\n",
    "            raise ValueError(\"Unsupported distance metric. Choose 'cosine' or 'euclidean'.\")\n",
    "        \n",
    "        # print(f'######Iteration {i}#########')\n",
    "        # print(memory_labels[i])\n",
    "        # print(memory_label_onehot)\n",
    "        # print(dist)\n",
    "        # print(f'Before: {distance_sums}')\n",
    "        # Add the distance to the initialized array\n",
    "        distance_sums += memory_label_onehot * dist\n",
    "        # print(f'After: {distance_sums}')\n",
    "        # print('###############')\n",
    "\n",
    "    \n",
    "    # Final calculation based on the distance metric\n",
    "    if predicted_softmax_label is not None:\n",
    "        # print('########## Final #########')\n",
    "        \n",
    "        # Add the predicted value weighted by static distance\n",
    "        distance_sums += predicted_softmax_label * static_distance\n",
    "        \n",
    "        # print(predicted_softmax_label * static_distance)\n",
    "        # print(f'Final: {distance_sums}')\n",
    "\n",
    "    return distance_sums"
   ]
  },
  {
   "cell_type": "markdown",
   "metadata": {},
   "source": [
    "# `get_predicted_class` Function\n",
    "\n",
    "The `get_predicted_class` function determines the predicted class based on the cumulative similarity scores (`distance_sums`) computed by the `compute_distance_sums` function."
   ]
  },
  {
   "cell_type": "code",
   "execution_count": null,
   "metadata": {},
   "outputs": [],
   "source": [
    "def get_predicted_class(distance_sums):\n",
    "    index = np.argmax(distance_sums)\n",
    "    return index"
   ]
  },
  {
   "cell_type": "markdown",
   "metadata": {},
   "source": [
    "# `load_data_cls` Function\n",
    "\n",
    "The `load_data_cls` function loads data from a `.npz` file, which contains test and neighbor class embeddings along with their corresponding labels."
   ]
  },
  {
   "cell_type": "code",
   "execution_count": null,
   "metadata": {},
   "outputs": [],
   "source": [
    "def load_data_cls(file_path: str):\n",
    "    # Load the .npz file\n",
    "    data = np.load(file_path)\n",
    "\n",
    "    # for key in data.keys():\n",
    "    #     print(f\"{key}: {data[key].shape}\")\n",
    "    \n",
    "    # Extract the arrays\n",
    "    test_cls = data['test_cls']\n",
    "    test_labels = data['test_labels']\n",
    "    neighbor_cls = data['neighbor_cls']\n",
    "    neighbor_labels = data['neighbor_labels']\n",
    "    print(\"Data loaded successfully.\")\n",
    "    \n",
    "    return test_cls, test_labels, neighbor_cls, neighbor_labels"
   ]
  },
  {
   "cell_type": "markdown",
   "metadata": {},
   "source": [
    "# `load_softmax_predictions` Function\n",
    "\n",
    "The `load_softmax_predictions` function loads softmax predictions from a `.npz` file. These predictions represent the probability distribution over classes for a set of inputs."
   ]
  },
  {
   "cell_type": "code",
   "execution_count": null,
   "metadata": {},
   "outputs": [],
   "source": [
    "def load_softmax_predictions(file_path: str):\n",
    "    # Load the .npz file\n",
    "    data = np.load(file_path)\n",
    "    predicted_softmax_labels= data['predictions']\n",
    "    return predicted_softmax_labels"
   ]
  },
  {
   "cell_type": "code",
   "execution_count": null,
   "metadata": {},
   "outputs": [],
   "source": [
    "predicted_softmax_file_path = f\"output_data/vit_tiny_softmax_predictions_CIFAR10.npz\"\n",
    "predicted_softmax_labels = load_softmax_predictions(predicted_softmax_file_path)"
   ]
  },
  {
   "cell_type": "markdown",
   "metadata": {},
   "source": [
    "# Processing CLS Embeddings with Distance Metrics\n",
    "\n",
    "This script processes class embeddings using a specified distance metric (`cosine` or `euclidean`) and evaluates the performance of the predictions."
   ]
  },
  {
   "cell_type": "code",
   "execution_count": null,
   "metadata": {},
   "outputs": [],
   "source": [
    "k_list = [9] #[3,5,7,9,11,13,15,17,19]\n",
    "use_softmax_predictions = False\n",
    "\n",
    "for k in k_list:\n",
    "    print(f'Processing k={k}')\n",
    "    file_path = f\"output_data/cls/cls_neighbors_euclidean_{k}.npz\"  # Specify the file path\n",
    "    test_embeddings, test_labels, all_memory_embeddings, all_memory_labels = load_data_cls(file_path)\n",
    "    num_classes = len(np.unique(test_labels, return_counts=False))\n",
    "\n",
    "    print(f\"Test CLS: {test_embeddings.shape}, Type: {type(test_embeddings)}\")\n",
    "    print(f\"Test Labels: {test_labels.shape}, Type: {type(test_labels)}\")\n",
    "    print(f\"Neighbor CLS: {all_memory_embeddings.shape}, Type: {type(all_memory_embeddings)}\")\n",
    "    print(f\"Neighbor Labels: {all_memory_labels.shape}, Type: {type(all_memory_labels)}\")\n",
    "    print(f\"Distince Number of Classes: {num_classes}\")\n",
    "\n",
    "    # For CLS\n",
    "    y_pred = []\n",
    "\n",
    "    distance_metric='cosine'\n",
    "    #distance_metric='euclidean'\n",
    "\n",
    "    for selected_test_image_embedding, memory_embeddings, memory_labels, predicted_softmax_label in zip(test_embeddings, all_memory_embeddings, all_memory_labels, predicted_softmax_labels):\n",
    "        #print(memory_labels)\n",
    "        if use_softmax_predictions:\n",
    "            distance_sums = compute_distance_sums(selected_test_image_embedding, memory_embeddings, memory_labels, predicted_softmax_label= predicted_softmax_label, static_distance = 1, distance_metric=distance_metric, num_classes=num_classes)\n",
    "        else:\n",
    "            distance_sums = compute_distance_sums(selected_test_image_embedding, memory_embeddings, memory_labels, predicted_softmax_label= None, static_distance = 1, distance_metric=distance_metric, num_classes=num_classes)\n",
    "        predicted_class = get_predicted_class(distance_sums)\n",
    "        y_pred.append(predicted_class)\n",
    "        #break\n",
    "\n",
    "    # Compute accuracy\n",
    "    print(classification_report(test_labels, y_pred))"
   ]
  },
  {
   "cell_type": "markdown",
   "metadata": {},
   "source": [
    "# Patch"
   ]
  },
  {
   "cell_type": "markdown",
   "metadata": {},
   "source": [
    "# `process_lists` Function\n",
    "\n",
    "The `process_lists` function processes a list of lists by either summing or averaging the elements along the columns. It supports both Python lists and NumPy arrays as input."
   ]
  },
  {
   "cell_type": "code",
   "execution_count": null,
   "metadata": {},
   "outputs": [],
   "source": [
    "def process_lists(lists, mode=\"sum\"):\n",
    "    if not isinstance(lists, list):\n",
    "        raise ValueError(\"Input must be a list of lists.\")\n",
    "    \n",
    "    lists = [lst.tolist() if isinstance(lst, np.ndarray) else lst for lst in lists]\n",
    "    \n",
    "    if not all(isinstance(lst, list) for lst in lists):\n",
    "        raise ValueError(\"Each element in the input must be a list.\")\n",
    "    \n",
    "    if mode not in {\"sum\", \"average\"}:\n",
    "        raise ValueError(\"Mode must be 'sum' or 'average'.\")\n",
    "\n",
    "    # Convert to NumPy array for vectorized operations\n",
    "    array = np.array(lists)\n",
    "    \n",
    "    if mode == \"sum\":\n",
    "        processed = np.sum(array, axis=0)\n",
    "    else:  # mode == \"average\"\n",
    "        processed = np.mean(array, axis=0)\n",
    "    \n",
    "    return processed.tolist()  # Return as a list"
   ]
  },
  {
   "cell_type": "markdown",
   "metadata": {},
   "source": [
    "# `load_data_patch` Function\n",
    "\n",
    "The `load_data_patch` function loads data from a `.npz` file, which contains test and neighbor class embeddings along with their corresponding labels for patch related info."
   ]
  },
  {
   "cell_type": "code",
   "execution_count": null,
   "metadata": {},
   "outputs": [],
   "source": [
    "def load_data_patch(file_path: str):\n",
    "    # Load the .npz file\n",
    "    data = np.load(file_path)\n",
    "    \n",
    "    # Extract the arrays\n",
    "    test_patch = data['test_patch']\n",
    "    test_labels = data['test_labels']\n",
    "    neighbor_patch = data['neighbor_path']\n",
    "    neighbor_labels = data['neighbor_labels']\n",
    "    print(\"Data loaded successfully.\")\n",
    "    \n",
    "    return test_patch, test_labels, neighbor_patch, neighbor_labels"
   ]
  },
  {
   "cell_type": "code",
   "execution_count": null,
   "metadata": {},
   "outputs": [],
   "source": [
    "file_path = f\"output_data/patch/patch_cosine_memory.npz\"  # Specify the file path\n",
    "test_embeddings, test_labels, all_memory_embeddings, all_memory_labels = load_data_patch(file_path)\n",
    "num_classes = len(np.unique(test_labels, return_counts=False))\n",
    "\n",
    "print(f\"Test Patch: {test_embeddings.shape}, Type: {type(test_embeddings)}\")\n",
    "print(f\"Test Labels: {test_labels.shape}, Type: {type(test_labels)}\")\n",
    "print(f\"Neighbor Patch: {all_memory_embeddings.shape}, Type: {type(all_memory_embeddings)}\")\n",
    "print(f\"Neighbor Labels: {all_memory_labels.shape}, Type: {type(all_memory_labels)}\")\n",
    "print(f\"Distince Number of Classes: {num_classes}\")"
   ]
  },
  {
   "cell_type": "code",
   "execution_count": null,
   "metadata": {},
   "outputs": [],
   "source": [
    "# TODO: Remove\n",
    "data = np.load('output_data/patch/patch_memory_euclidian_TEST_ONLY.npz')\n",
    "test_embeddings = data['test_patch']\n",
    "test_labels = data['test_labels']\n",
    "\n",
    "data = np.load('output_data/patch/patch_memory_euclidian.npz')\n",
    "all_memory_embeddings = data['neighbor_path']\n",
    "all_memory_labels = data['neighbor_labels']\n",
    "\n",
    "# Print shapes\n",
    "print(\"test_patch shape:\", test_embeddings.shape)\n",
    "print(\"test_labels shape:\", test_labels.shape)\n",
    "print(\"neighbor_patch shape:\", all_memory_embeddings.shape)\n",
    "print(\"neighbor_labels shape:\", all_memory_labels.shape)"
   ]
  },
  {
   "cell_type": "markdown",
   "metadata": {},
   "source": [
    "# Patch-Based Prediction and Evaluation\n",
    "\n",
    "This script processes patch embeddings from test images and memory embeddings to predict classes. It supports two calculation modes (`sum` or `average`) and two distance metrics (`cosine` or `euclidean`). The predictions are evaluated using a classification report."
   ]
  },
  {
   "cell_type": "code",
   "execution_count": null,
   "metadata": {},
   "outputs": [],
   "source": [
    "# For Patch\n",
    "y_pred = []\n",
    "\n",
    "calculation_mode = 'sum' # 'average'\n",
    "distance_metric = 'cosine' # 'euclidean'\n",
    "use_softmax_predictions = True\n",
    "\n",
    "for selected_test_image_embedding, specific_memory_embeddings, specific_memory_labels, predicted_softmax_label in zip(test_embeddings, all_memory_embeddings, all_memory_labels, predicted_softmax_labels):\n",
    "    distance_sums_list = []\n",
    "\n",
    "    for patch_embedding, memory_embeddings, memory_labels in zip(selected_test_image_embedding, specific_memory_embeddings, specific_memory_labels):\n",
    "        if use_softmax_predictions:\n",
    "            distance_sums_list.append(compute_distance_sums(patch_embedding, memory_embeddings, memory_labels, predicted_softmax_label= predicted_softmax_label, static_distance = 1, distance_metric=distance_metric))\n",
    "        else:\n",
    "            distance_sums_list.append(compute_distance_sums(patch_embedding, memory_embeddings, memory_labels, predicted_softmax_label= None, static_distance = 1, distance_metric=distance_metric))\n",
    "    distance_sums = process_lists(distance_sums_list, mode=calculation_mode)\n",
    "    predicted_class = get_predicted_class(distance_sums)\n",
    "    y_pred.append(predicted_class)\n",
    "    \n",
    "\n",
    "# Compute accuracy\n",
    "print(classification_report(test_labels, y_pred))"
   ]
  },
  {
   "cell_type": "code",
   "execution_count": null,
   "metadata": {},
   "outputs": [],
   "source": [
    "# TODO: Remove\n",
    "from collections import Counter\n",
    "test_image_position = 9\n",
    "\n",
    "distinct_counts = Counter(all_memory_labels[test_image_position].flatten())\n",
    "\n",
    "print(distinct_counts)\n",
    "print(test_labels[test_image_position])\n"
   ]
  },
  {
   "cell_type": "code",
   "execution_count": null,
   "metadata": {},
   "outputs": [],
   "source": [
    "# TODO: Remove\n",
    "test_image_position = 9\n",
    "get_predicted_class(predicted_softmax_labels[test_image_position])"
   ]
  },
  {
   "cell_type": "code",
   "execution_count": null,
   "metadata": {},
   "outputs": [],
   "source": [
    "import matplotlib.pyplot as plt\n",
    "import numpy as np\n",
    "\n",
    "# Data\n",
    "k_values = [3, 5, 7, 9, 11, 13, 15, 17, 19]\n",
    "\n",
    "# Cosine KNN results\n",
    "cosine_without_softmax = [0.69, 0.71, 0.71, 0.72, 0.72, 0.72, 0.71, 0.71, 0.71]\n",
    "cosine_with_softmax = [0.67, 0.70, 0.71, 0.71, 0.71, 0.71, 0.71, 0.71, 0.71]\n",
    "\n",
    "# Euclidean KNN results\n",
    "euclidean_without_softmax = [0.68, 0.70, 0.70, 0.71, 0.71, 0.71, 0.71, 0.71, 0.71]\n",
    "euclidean_with_softmax = [0.65, 0.69, 0.70, 0.70, 0.70, 0.70, 0.70, 0.71, 0.71]\n",
    "\n",
    "# Set up the plot\n",
    "plt.figure(figsize=(12, 6))\n",
    "\n",
    "# Bar width\n",
    "bar_width = 0.2\n",
    "x = np.arange(len(k_values))  # x-axis positions\n",
    "\n",
    "# Plot bars\n",
    "plt.bar(x - 1.5 * bar_width, cosine_without_softmax, width=bar_width, color='blue', label='Cosine KNN (Without Softmax)')\n",
    "plt.bar(x - 0.5 * bar_width, cosine_with_softmax, width=bar_width, color='lightblue', label='Cosine KNN (With Softmax)')\n",
    "plt.bar(x + 0.5 * bar_width, euclidean_without_softmax, width=bar_width, color='red', label='Euclidean KNN (Without Softmax)')\n",
    "plt.bar(x + 1.5 * bar_width, euclidean_with_softmax, width=bar_width, color='lightcoral', label='Euclidean KNN (With Softmax)')\n",
    "\n",
    "# Add labels and title\n",
    "plt.title('Accuracy vs. Number of Neighbors (K)', fontsize=14)\n",
    "plt.xlabel('Number of Neighbors (K)', fontsize=12)\n",
    "plt.ylabel('Accuracy', fontsize=12)\n",
    "plt.xticks(x, k_values)  # Set x-ticks to K values\n",
    "plt.grid(True, linestyle='--', alpha=0.6, axis='y')\n",
    "\n",
    "# Add legend\n",
    "plt.legend(title=\"Configuration\", bbox_to_anchor=(1.05, 1), loc='upper left')\n",
    "\n",
    "# Show plot\n",
    "plt.tight_layout()\n",
    "plt.show()"
   ]
  },
  {
   "cell_type": "markdown",
   "metadata": {},
   "source": [
    "# Results"
   ]
  },
  {
   "cell_type": "markdown",
   "metadata": {},
   "source": [
    "## CLS"
   ]
  },
  {
   "cell_type": "markdown",
   "metadata": {},
   "source": [
    "| **K** | **Accuracy** | **Use Softmax Predictions** | **Similarity** | **K** | **Accuracy** | **Use Softmax Predictions** | **Similarity** |\n",
    "|-------|--------------|-----------------------------|-----------------|-------|--------------|-----------------------------|-----------------|\n",
    "| 3     | 0.69         | FALSE                       | Cosine          | 3     | 0.68         | FALSE                       | Cosine          |\n",
    "| 5     | 0.71         | FALSE                       | Cosine          | 5     | 0.70         | FALSE                       | Cosine          |\n",
    "| 7     | 0.71         | FALSE                       | Cosine          | 7     | 0.70         | FALSE                       | Cosine          |\n",
    "| 9     | 0.72         | FALSE                       | Cosine          | 9     | 0.71         | FALSE                       | Cosine          |\n",
    "| 11    | 0.72         | FALSE                       | Cosine          | 11    | 0.71         | FALSE                       | Cosine          |\n",
    "| 13    | 0.72         | FALSE                       | Cosine          | 13    | 0.71         | FALSE                       | Cosine          |\n",
    "| 15    | 0.71         | FALSE                       | Cosine          | 15    | 0.71         | FALSE                       | Cosine          |\n",
    "| 17    | 0.71         | FALSE                       | Cosine          | 17    | 0.71         | FALSE                       | Cosine          |\n",
    "| 19    | 0.71         | FALSE                       | Cosine          | 19    | 0.71         | FALSE                       | Cosine          |\n",
    "| 3     | 0.67         | TRUE                        | Cosine          | 3     | 0.65         | TRUE                        | Cosine          |\n",
    "| 5     | 0.70         | TRUE                        | Cosine          | 5     | 0.69         | TRUE                        | Cosine          |\n",
    "| 7     | 0.71         | TRUE                        | Cosine          | 7     | 0.70         | TRUE                        | Cosine          |\n",
    "| 9     | 0.71         | TRUE                        | Cosine          | 9     | 0.70         | TRUE                        | Cosine          |\n",
    "| 11    | 0.71         | TRUE                        | Cosine          | 11    | 0.70         | TRUE                        | Cosine          |\n",
    "| 13    | 0.71         | TRUE                        | Cosine          | 13    | 0.70         | TRUE                        | Cosine          |\n",
    "| 15    | 0.71         | TRUE                        | Cosine          | 15    | 0.70         | TRUE                        | Cosine          |\n",
    "| 17    | 0.71         | TRUE                        | Cosine          | 17    | 0.71         | TRUE                        | Cosine          |\n",
    "| 19    | 0.71         | TRUE                        | Cosine          | 19    | 0.71         | TRUE                        | Cosine          |"
   ]
  },
  {
   "cell_type": "markdown",
   "metadata": {},
   "source": [
    "Observations:\n",
    "Cosine vs. Euclidean KNN:\n",
    "\n",
    " - Cosine KNN consistently performs slightly better than Euclidean KNN across all values of K and configurations (with or without softmax predictions).\n",
    "\n",
    "Effect of Number of Neighbors (K):\n",
    "\n",
    " - As K increases, accuracy improves slightly, peaking around K=9 or K=11, after which it slightly decreases.\n",
    "\n",
    " - This is expected because a small K can be noisy, while a very large K may include irrelevant neighbors, reducing accuracy.\n",
    "\n",
    "Use of Softmax Predictions:\n",
    "\n",
    " - When softmax predictions are used (Use Softmax Predictions = TRUE), accuracy is generally slightly lower compared to when they are not used (FALSE).\n",
    "\n",
    " - This is surprising because the softmax predictions come from a model with ~76% accuracy, which should theoretically improve results. The slight drop suggests that the softmax predictions might not align well with the KNN-based distance sums.\n",
    "\n",
    "Accuracy Comparison to Base Model:\n",
    "\n",
    " - The best accuracy achieved by KNN (0.72 with cosine, K=9 or K=11) is lower than the base model's ~76% accuracy.\n",
    "\n",
    " - This indicates that the KNN approach, while reasonable, is not as effective as the base model for this task\n",
    "\n",
    "Similarity Metric Impact:\n",
    "\n",
    " - The similarity metric (cosine vs. Euclidean) has a noticeable but small impact on accuracy, with cosine being slightly better.\n",
    "\n",
    "Key Takeaways:\n",
    " - Cosine KNN with K=9 or K=11 and without softmax predictions performs the best, achieving 72% accuracy.\n",
    "\n",
    " - The softmax predictions do not improve results in this setup, suggesting they might need better integration or weighting.\n",
    "\n",
    " - The KNN approach underperforms compared to the base model (~76% accuracy), indicating that either:\n",
    "\n",
    "    - The embeddings are not ideal for KNN.\n",
    "\n",
    "    - The KNN method needs refinement (e.g., better distance weighting or neighbor selection)."
   ]
  },
  {
   "cell_type": "markdown",
   "metadata": {},
   "source": [
    "# Patch"
   ]
  },
  {
   "cell_type": "code",
   "execution_count": null,
   "metadata": {},
   "outputs": [],
   "source": [
    "import matplotlib.pyplot as plt\n",
    "import numpy as np\n",
    "\n",
    "# Data\n",
    "k_value = 5  # Fixed K value\n",
    "configurations = ['Sum-based (No Softmax)', 'Sum-based (With Softmax)', 'Average (No Softmax)', 'Average (With Softmax)']\n",
    "accuracies = [0.68, 0.57, 0.68, 0.57]\n",
    "\n",
    "# Set up the plot\n",
    "plt.figure(figsize=(10, 6))\n",
    "\n",
    "# Bar colors\n",
    "colors = ['blue', 'lightblue', 'green', 'lightgreen']\n",
    "\n",
    "# Plot bars\n",
    "bars = plt.bar(configurations, accuracies, color=colors)\n",
    "\n",
    "# Add labels and title\n",
    "plt.title(f'Accuracy for K={k_value}', fontsize=14)\n",
    "plt.xlabel('Configuration', fontsize=12)\n",
    "plt.ylabel('Accuracy', fontsize=12)\n",
    "plt.ylim(0, 1)  # Set y-axis limit from 0 to 1 for accuracy\n",
    "plt.grid(True, linestyle='--', alpha=0.6, axis='y')\n",
    "\n",
    "# Add values on top of bars\n",
    "for bar in bars:\n",
    "    height = bar.get_height()\n",
    "    plt.text(bar.get_x() + bar.get_width() / 2, height, f'{height:.2f}', ha='center', va='bottom')\n",
    "\n",
    "# Show plot\n",
    "plt.tight_layout()\n",
    "plt.show()"
   ]
  },
  {
   "cell_type": "markdown",
   "metadata": {},
   "source": [
    "- The results show that incorporating softmax predictions reduces accuracy from 0.68 to 0.57, regardless of whether sum-based or average weighting is used.\n",
    "\n",
    "- This suggests that softmax probabilities may be poorly calibrated or introduce noise when weighting nearest neighbors.\n",
    "\n",
    "- Moreover, the choice between sum-based and average weighting has minimal impact, as both yield the same accuracy without softmax predictions.\n",
    "\n",
    "- The accuracy drop with softmax weighting indicates a misalignment between predicted probabilities and the similarity-based approach, possibly due to incorrect predictions or overconfidence.\n",
    "\n",
    "- Further investigation into softmax calibration, adjusting the static distance factor and exploring alternative distance metrics or a larger K value could help improve performance."
   ]
  },
  {
   "cell_type": "markdown",
   "metadata": {},
   "source": [
    "# Best Models Comparison"
   ]
  },
  {
   "cell_type": "markdown",
   "metadata": {},
   "source": [
    "| Accuracy | Model Type      | K  | Similarity | Use Softmax Predictions | Weighting       |\n",
    "|----------|-----------------|----|------------|--------------------------|-----------------|\n",
    "| 0.7657   | Fine Tune       | -  | -          | -                        | -               |\n",
    "| 0.72     | Knn - Cls       | 9, 11, 13  | Cosine     | -                        | -               |\n",
    "| 0.7      | Knn - Patch     | 5  | Cosine     | -                        | -               |\n",
    "| 0.72     | Function - Cls  | 9  | Cosine     | FALSE                    | -               |\n",
    "| 0.68     | Function - Patch| 5  | Cosine     | FALSE                    | Average/Sum-based |\n"
   ]
  },
  {
   "cell_type": "code",
   "execution_count": 142,
   "metadata": {},
   "outputs": [
    {
     "data": {
      "image/png": "[encoded data removed]",
      "text/plain": [
       "<Figure size 1000x600 with 1 Axes>"
      ]
     },
     "metadata": {},
     "output_type": "display_data"
    }
   ],
   "source": [
    "import matplotlib.pyplot as plt\n",
    "import pandas as pd\n",
    "\n",
    "# Data for the plot\n",
    "data = {\n",
    "    \"Accuracy\": [0.7657, 0.72, 0.7, 0.72, 0.68],\n",
    "    \"Model Type\": [\"Fine Tune\", \"Knn - Cls\", \"Knn - Patch\", \"Function - Cls\", \"Function - Patch\"],\n",
    "    \"K\": [\"-\", \"9, 11, 13\", \"5\", \"9, 11\", \"5\"],\n",
    "    \"Similarity\": [\"-\", \"Cosine\", \"Cosine\", \"Cosine\", \"Cosine\"],\n",
    "    \"Use Softmax Predictions\": [\"-\", \"-\", \"-\", \"FALSE\", \"FALSE\"],\n",
    "    \"Weighting\": [\"-\", \"-\", \"-\", \"-\", \"Average/Sum-based\"]\n",
    "}\n",
    "\n",
    "# Create DataFrame\n",
    "df = pd.DataFrame(data)\n",
    "\n",
    "# Plot\n",
    "plt.figure(figsize=(10, 6))\n",
    "plt.bar(df[\"Model Type\"], df[\"Accuracy\"], color=['#4CAF50', '#FFEB3B', '#FF9800', '#2196F3', '#F44336'])\n",
    "plt.xlabel(\"Model Type\")\n",
    "plt.ylabel(\"Accuracy\")\n",
    "plt.title(\"Model Accuracy Comparison\")\n",
    "plt.ylim(0.6, 0.8)\n",
    "plt.xticks(rotation=45)\n",
    "plt.tight_layout()\n",
    "\n",
    "# Show the plot\n",
    "plt.show()\n"
   ]
  },
  {
   "cell_type": "markdown",
   "metadata": {},
   "source": [
    "- Fine-tuning outperforms all other methods (0.7657), suggesting that training the model directly on the dataset allows it to learn better feature representations compared to other approaches.\n",
    "\n",
    "- The brute force KNN has similar behavior with the Function prediction method.\n",
    "\n",
    "- Using bruteforce KNN and the prediction function with CLS embeddings and cosine similarity achieves 0.72 accuracy with K values of 9, 11, and 13.\n",
    "\n",
    "- When using patch embeddings instead, the accuracy drops slightly.\n",
    "\n",
    "- This suggests that while local patch-level information is useful, it may not be as discriminative as CLS embeddings for final classification.\n",
    "\n",
    "- The weighting method (sum-based or average) does not significantly impact performance in the patch-based approach.\n",
    "\n",
    "Key Takeaways:\n",
    " - Fine-tuning provides the best performance, likely due to better feature extraction and task-specific adaptation.\n",
    " - The brute force KNN performs similar to the Function prediction method.\n",
    " - CLS embeddings work better than patch-based embeddings for classification.\n",
    " - Higher K values (9-13) improve KNN performance by reducing noise (up to a threshold).\n",
    " - Using softmax weighting in previous experiments may have hurt performance, but here it was not explicitly tested."
   ]
  },
  {
   "cell_type": "markdown",
   "metadata": {},
   "source": []
  }
 ],
 "metadata": {
  "kernelspec": {
   "display_name": ".venv",
   "language": "python",
   "name": "python3"
  },
  "language_info": {
   "codemirror_mode": {
    "name": "ipython",
    "version": 3
   },
   "file_extension": ".py",
   "mimetype": "text/x-python",
   "name": "python",
   "nbconvert_exporter": "python",
   "pygments_lexer": "ipython3",
   "version": "3.11.2"
  }
 },
 "nbformat": 4,
 "nbformat_minor": 2
}
